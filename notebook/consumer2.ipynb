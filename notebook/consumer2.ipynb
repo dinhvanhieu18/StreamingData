{
 "cells": [
  {
   "cell_type": "code",
   "execution_count": 1,
   "metadata": {},
   "outputs": [],
   "source": [
    "from pyspark import SparkContext\n",
    "from pyspark.sql import SparkSession \n",
    "from pyspark.streaming import StreamingContext\n",
    "from pyspark.streaming.kafka import KafkaUtils\n",
    "import json"
   ]
  },
  {
   "cell_type": "code",
   "execution_count": 2,
   "metadata": {},
   "outputs": [],
   "source": [
    "ss = SparkSession.Builder() \\\n",
    "     .appName(\"Average\") \\\n",
    "     .master(\"spark://spark-master-2:7077\") \\\n",
    "     .config(\"spark.jars\", \"./spark-streaming-kafka-0-8-assembly_2.11-2.0.0-preview.jar\") \\\n",
    "     .getOrCreate()"
   ]
  },
  {
   "cell_type": "code",
   "execution_count": 3,
   "metadata": {},
   "outputs": [],
   "source": [
    "sc = ss.sparkContext\n",
    "ssc = StreamingContext(sc, 20)\n",
    "ss.sparkContext.setLogLevel('WARN')"
   ]
  },
  {
   "cell_type": "code",
   "execution_count": 4,
   "metadata": {},
   "outputs": [],
   "source": [
    "brokers = 'kafka-1:9092,kafka-2:9092'\n",
    "topic='BTC'"
   ]
  },
  {
   "cell_type": "code",
   "execution_count": 5,
   "metadata": {},
   "outputs": [],
   "source": [
    "ks = KafkaUtils.createDirectStream(\n",
    "    ssc, [topic], kafkaParams={\"metadata.broker.list\":brokers})"
   ]
  },
  {
   "cell_type": "code",
   "execution_count": 6,
   "metadata": {},
   "outputs": [],
   "source": [
    "def processing(rdd):\n",
    "    from pyspark.sql.functions import mean, desc\n",
    "    from pymongo import MongoClient\n",
    "    if not rdd.isEmpty():\n",
    "        global ss\n",
    "        print(f\"Recieved {len(rdd.collect())} records\")\n",
    "        df = ss.createDataFrame(\n",
    "            rdd,\n",
    "            schema=[\n",
    "                \"timestamp\",\n",
    "                \"buy_price\",\n",
    "                \"sell_price\",\n",
    "            ]\n",
    "        )\n",
    "        # df.show()\n",
    "        timestamp = df.sort(desc('timestamp')).head()['timestamp']\n",
    "        mean_buy = df.select(mean('buy_price')).take(1)[0]['avg(buy_price)']\n",
    "        mean_sell = df.select(mean('sell_price')).take(1)[0]['avg(sell_price)']\n",
    "        \n",
    "        # Save to database\n",
    "        conn = MongoClient('mongodb', 27017)\n",
    "        db = conn.btc\n",
    "        db.average.insert({\n",
    "            'timestamp': timestamp,\n",
    "            'buy_price': mean_buy,\n",
    "            'sell_price': mean_sell\n",
    "        })\n",
    "        conn.close()"
   ]
  },
  {
   "cell_type": "code",
   "execution_count": 7,
   "metadata": {},
   "outputs": [],
   "source": [
    "def get_list(s):\n",
    "    t = json.loads(s[1])\n",
    "    res = [t['timestamp'], t['buy_price'], t['sell_price']]\n",
    "    return res"
   ]
  },
  {
   "cell_type": "code",
   "execution_count": null,
   "metadata": {},
   "outputs": [
    {
     "name": "stdout",
     "output_type": "stream",
     "text": [
      "Recieved 1 records\n"
     ]
    },
    {
     "name": "stderr",
     "output_type": "stream",
     "text": [
      "/opt/conda/lib/python3.7/site-packages/ipykernel_launcher.py:26: DeprecationWarning: insert is deprecated. Use insert_one or insert_many instead.\n"
     ]
    },
    {
     "name": "stdout",
     "output_type": "stream",
     "text": [
      "Recieved 3 records\n",
      "Recieved 1 records\n",
      "Recieved 3 records\n",
      "Recieved 4 records\n",
      "Recieved 4 records\n",
      "Recieved 3 records\n",
      "Recieved 4 records\n",
      "Recieved 3 records\n",
      "Recieved 4 records\n",
      "Recieved 3 records\n",
      "Recieved 3 records\n",
      "Recieved 4 records\n",
      "Recieved 3 records\n",
      "Recieved 4 records\n",
      "Recieved 3 records\n",
      "Recieved 3 records\n",
      "Recieved 3 records\n",
      "Recieved 4 records\n",
      "Recieved 3 records\n",
      "Recieved 3 records\n",
      "Recieved 4 records\n",
      "Recieved 3 records\n",
      "Recieved 3 records\n",
      "Recieved 3 records\n",
      "Recieved 4 records\n",
      "Recieved 4 records\n",
      "Recieved 3 records\n",
      "Recieved 3 records\n"
     ]
    }
   ],
   "source": [
    "lines = ks.map(lambda x: get_list(x))\n",
    "lines.foreachRDD(processing)\n",
    "\n",
    "ssc.start()\n",
    "ssc.awaitTermination()"
   ]
  },
  {
   "cell_type": "code",
   "execution_count": null,
   "metadata": {},
   "outputs": [],
   "source": []
  }
 ],
 "metadata": {
  "kernelspec": {
   "display_name": "Python 3",
   "language": "python",
   "name": "python3"
  },
  "language_info": {
   "codemirror_mode": {
    "name": "ipython",
    "version": 3
   },
   "file_extension": ".py",
   "mimetype": "text/x-python",
   "name": "python",
   "nbconvert_exporter": "python",
   "pygments_lexer": "ipython3",
   "version": "3.7.6"
  }
 },
 "nbformat": 4,
 "nbformat_minor": 4
}
