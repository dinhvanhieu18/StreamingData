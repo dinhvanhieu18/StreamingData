{
 "cells": [
  {
   "cell_type": "code",
   "execution_count": 1,
   "metadata": {},
   "outputs": [],
   "source": [
    "# #!/usr/bin/env python\n",
    "# # -*- coding: utf-8 -*-\n",
    "# # @Time    : 2018/7/11 21:13\n",
    "# # @Author  : MengnanChen\n",
    "# # @Site    : \n",
    "# # @File    : receiver.py\n",
    "# # @Software: PyCharm Community Edition\n",
    "\n",
    "# '''\n",
    "# receive data coming from kafka (producer.py) and insert data into mongodb\n",
    "# '''\n",
    "# # debug spark—submit by pycharm (Chinese): https://blog.csdn.net/zj1244/article/details/78893837\n",
    "# # (English): https://stackoverflow.com/questions/35560767/pyspark-streaming-with-kafka-in-pycharm\n",
    "\n",
    "# from pyspark import SparkContext\n",
    "# from pyspark.streaming import StreamingContext\n",
    "# from pyspark.streaming.kafka import KafkaUtils\n",
    "# import json\n",
    "# import global_vals\n",
    "# from mongo_utils import mongo_utils\n",
    "\n",
    "# def insert_row(x):\n",
    "#     if x is None or len(x)<1:\n",
    "#         return\n",
    "#     data_list=x.split(',')\n",
    "#     mongo_utils.insert_data({\n",
    "#                 'timestamp': data_list[0],\n",
    "#                 'uid': data_list[1],\n",
    "#                 'heart_rate': data_list[2],\n",
    "#                 'steps': data_list[3]\n",
    "#     })\n",
    "\n",
    "# sc=SparkContext(master='local[*]',appName='test')\n",
    "# ssc=StreamingContext(sc,batchDuration=global_vals.data_produce_duration)\n",
    "# brokers='localhost:9092'\n",
    "# topic=global_vals.kafka_topic\n",
    "# kvs=KafkaUtils.createDirectStream(ssc,[topic],kafkaParams={\"metadata.broker.list\":brokers})\n",
    "# kvs.pprint()\n",
    "# lines=kvs.map(lambda x:'{},{},{},{}'.format(json.loads(x[1])['timestamp'],json.loads(x[1])['uid'],\n",
    "#                                            json.loads(x[1])['heart_rate'],json.loads(x[1])['steps']))\n",
    "# lines.foreachRDD(lambda rdd:rdd.foreach(insert_row))\n",
    "\n",
    "# ssc.start()\n",
    "# ssc.awaitTermination()"
   ]
  },
  {
   "cell_type": "code",
   "execution_count": 2,
   "metadata": {},
   "outputs": [],
   "source": [
    "from pyspark import SparkContext                                                                                        \n",
    "from pyspark.sql import SparkSession                                                                                    \n",
    "from pyspark.streaming import StreamingContext                                                                          \n",
    "from pyspark.streaming.kafka import KafkaUtils    \n",
    "import pandas as pd\n",
    "import json\n",
    "import yaml"
   ]
  },
  {
   "cell_type": "code",
   "execution_count": 3,
   "metadata": {},
   "outputs": [],
   "source": [
    "ss = SparkSession.Builder() \\\n",
    "     .appName(\"SparkStreamingKafka\") \\\n",
    "     .master(\"spark://aadb70abe6e3:7077\") \\\n",
    "     .config(\"spark.jars\", \"./spark-streaming-kafka-0-8-assembly_2.11-2.0.0-preview.jar\") \\\n",
    "     .getOrCreate()"
   ]
  },
  {
   "cell_type": "code",
   "execution_count": 4,
   "metadata": {},
   "outputs": [],
   "source": [
    "sc = ss.sparkContext\n",
    "ssc = StreamingContext(sc, 10)\n",
    "ss.sparkContext.setLogLevel('WARN')"
   ]
  },
  {
   "cell_type": "code",
   "execution_count": 5,
   "metadata": {},
   "outputs": [],
   "source": [
    "def handle_rdd(rdd):\n",
    "    print(rdd)"
   ]
  },
  {
   "cell_type": "code",
   "execution_count": 6,
   "metadata": {},
   "outputs": [
    {
     "name": "stdout",
     "output_type": "stream",
     "text": [
      "PythonRDD[2] at RDD at PythonRDD.scala:53\n",
      "PythonRDD[5] at RDD at PythonRDD.scala:53\n",
      "PythonRDD[8] at RDD at PythonRDD.scala:53\n",
      "PythonRDD[11] at RDD at PythonRDD.scala:53\n",
      "PythonRDD[14] at RDD at PythonRDD.scala:53\n",
      "PythonRDD[17] at RDD at PythonRDD.scala:53\n",
      "PythonRDD[20] at RDD at PythonRDD.scala:53\n",
      "PythonRDD[23] at RDD at PythonRDD.scala:53\n",
      "PythonRDD[26] at RDD at PythonRDD.scala:53\n",
      "PythonRDD[29] at RDD at PythonRDD.scala:53\n",
      "PythonRDD[32] at RDD at PythonRDD.scala:53\n",
      "PythonRDD[35] at RDD at PythonRDD.scala:53\n",
      "PythonRDD[38] at RDD at PythonRDD.scala:53\n",
      "PythonRDD[41] at RDD at PythonRDD.scala:53\n",
      "PythonRDD[44] at RDD at PythonRDD.scala:53\n",
      "PythonRDD[47] at RDD at PythonRDD.scala:53\n",
      "PythonRDD[50] at RDD at PythonRDD.scala:53\n",
      "PythonRDD[53] at RDD at PythonRDD.scala:53\n",
      "PythonRDD[56] at RDD at PythonRDD.scala:53\n",
      "PythonRDD[59] at RDD at PythonRDD.scala:53\n",
      "PythonRDD[62] at RDD at PythonRDD.scala:53\n",
      "PythonRDD[65] at RDD at PythonRDD.scala:53\n",
      "PythonRDD[68] at RDD at PythonRDD.scala:53\n",
      "PythonRDD[71] at RDD at PythonRDD.scala:53\n",
      "PythonRDD[74] at RDD at PythonRDD.scala:53\n",
      "PythonRDD[77] at RDD at PythonRDD.scala:53\n",
      "PythonRDD[80] at RDD at PythonRDD.scala:53\n",
      "PythonRDD[83] at RDD at PythonRDD.scala:53\n",
      "PythonRDD[86] at RDD at PythonRDD.scala:53\n",
      "PythonRDD[89] at RDD at PythonRDD.scala:53\n",
      "PythonRDD[92] at RDD at PythonRDD.scala:53\n",
      "PythonRDD[95] at RDD at PythonRDD.scala:53\n",
      "PythonRDD[98] at RDD at PythonRDD.scala:53\n",
      "PythonRDD[101] at RDD at PythonRDD.scala:53\n",
      "PythonRDD[104] at RDD at PythonRDD.scala:53\n",
      "PythonRDD[107] at RDD at PythonRDD.scala:53\n",
      "PythonRDD[110] at RDD at PythonRDD.scala:53\n",
      "PythonRDD[113] at RDD at PythonRDD.scala:53\n",
      "PythonRDD[116] at RDD at PythonRDD.scala:53\n",
      "PythonRDD[119] at RDD at PythonRDD.scala:53\n",
      "PythonRDD[122] at RDD at PythonRDD.scala:53\n",
      "PythonRDD[125] at RDD at PythonRDD.scala:53\n",
      "PythonRDD[128] at RDD at PythonRDD.scala:53\n",
      "PythonRDD[131] at RDD at PythonRDD.scala:53\n",
      "PythonRDD[134] at RDD at PythonRDD.scala:53\n",
      "PythonRDD[137] at RDD at PythonRDD.scala:53\n",
      "PythonRDD[140] at RDD at PythonRDD.scala:53\n",
      "PythonRDD[143] at RDD at PythonRDD.scala:53\n",
      "PythonRDD[146] at RDD at PythonRDD.scala:53\n",
      "PythonRDD[149] at RDD at PythonRDD.scala:53\n",
      "PythonRDD[152] at RDD at PythonRDD.scala:53\n",
      "PythonRDD[155] at RDD at PythonRDD.scala:53\n",
      "PythonRDD[158] at RDD at PythonRDD.scala:53\n",
      "PythonRDD[161] at RDD at PythonRDD.scala:53\n",
      "PythonRDD[164] at RDD at PythonRDD.scala:53\n",
      "PythonRDD[167] at RDD at PythonRDD.scala:53\n",
      "PythonRDD[170] at RDD at PythonRDD.scala:53\n",
      "PythonRDD[173] at RDD at PythonRDD.scala:53\n",
      "PythonRDD[176] at RDD at PythonRDD.scala:53\n",
      "PythonRDD[179] at RDD at PythonRDD.scala:53\n",
      "PythonRDD[182] at RDD at PythonRDD.scala:53\n",
      "PythonRDD[185] at RDD at PythonRDD.scala:53\n",
      "PythonRDD[188] at RDD at PythonRDD.scala:53\n",
      "PythonRDD[191] at RDD at PythonRDD.scala:53\n",
      "PythonRDD[194] at RDD at PythonRDD.scala:53\n",
      "PythonRDD[197] at RDD at PythonRDD.scala:53\n",
      "PythonRDD[200] at RDD at PythonRDD.scala:53\n",
      "PythonRDD[203] at RDD at PythonRDD.scala:53\n",
      "PythonRDD[206] at RDD at PythonRDD.scala:53\n",
      "PythonRDD[209] at RDD at PythonRDD.scala:53\n",
      "PythonRDD[212] at RDD at PythonRDD.scala:53\n"
     ]
    },
    {
     "ename": "KeyboardInterrupt",
     "evalue": "",
     "output_type": "error",
     "traceback": [
      "\u001b[0;31m---------------------------------------------------------------------------\u001b[0m",
      "\u001b[0;31mKeyboardInterrupt\u001b[0m                         Traceback (most recent call last)",
      "\u001b[0;32m<ipython-input-6-d9963d0060a8>\u001b[0m in \u001b[0;36m<module>\u001b[0;34m\u001b[0m\n\u001b[1;32m     10\u001b[0m \u001b[0;34m\u001b[0m\u001b[0m\n\u001b[1;32m     11\u001b[0m \u001b[0mssc\u001b[0m\u001b[0;34m.\u001b[0m\u001b[0mstart\u001b[0m\u001b[0;34m(\u001b[0m\u001b[0;34m)\u001b[0m\u001b[0;34m\u001b[0m\u001b[0;34m\u001b[0m\u001b[0m\n\u001b[0;32m---> 12\u001b[0;31m \u001b[0mssc\u001b[0m\u001b[0;34m.\u001b[0m\u001b[0mawaitTermination\u001b[0m\u001b[0;34m(\u001b[0m\u001b[0;34m)\u001b[0m\u001b[0;34m\u001b[0m\u001b[0;34m\u001b[0m\u001b[0m\n\u001b[0m",
      "\u001b[0;32m/usr/local/spark/python/pyspark/streaming/context.py\u001b[0m in \u001b[0;36mawaitTermination\u001b[0;34m(self, timeout)\u001b[0m\n\u001b[1;32m    190\u001b[0m         \"\"\"\n\u001b[1;32m    191\u001b[0m         \u001b[0;32mif\u001b[0m \u001b[0mtimeout\u001b[0m \u001b[0;32mis\u001b[0m \u001b[0;32mNone\u001b[0m\u001b[0;34m:\u001b[0m\u001b[0;34m\u001b[0m\u001b[0;34m\u001b[0m\u001b[0m\n\u001b[0;32m--> 192\u001b[0;31m             \u001b[0mself\u001b[0m\u001b[0;34m.\u001b[0m\u001b[0m_jssc\u001b[0m\u001b[0;34m.\u001b[0m\u001b[0mawaitTermination\u001b[0m\u001b[0;34m(\u001b[0m\u001b[0;34m)\u001b[0m\u001b[0;34m\u001b[0m\u001b[0;34m\u001b[0m\u001b[0m\n\u001b[0m\u001b[1;32m    193\u001b[0m         \u001b[0;32melse\u001b[0m\u001b[0;34m:\u001b[0m\u001b[0;34m\u001b[0m\u001b[0;34m\u001b[0m\u001b[0m\n\u001b[1;32m    194\u001b[0m             \u001b[0mself\u001b[0m\u001b[0;34m.\u001b[0m\u001b[0m_jssc\u001b[0m\u001b[0;34m.\u001b[0m\u001b[0mawaitTerminationOrTimeout\u001b[0m\u001b[0;34m(\u001b[0m\u001b[0mint\u001b[0m\u001b[0;34m(\u001b[0m\u001b[0mtimeout\u001b[0m \u001b[0;34m*\u001b[0m \u001b[0;36m1000\u001b[0m\u001b[0;34m)\u001b[0m\u001b[0;34m)\u001b[0m\u001b[0;34m\u001b[0m\u001b[0;34m\u001b[0m\u001b[0m\n",
      "\u001b[0;32m/usr/local/spark/python/lib/py4j-0.10.7-src.zip/py4j/java_gateway.py\u001b[0m in \u001b[0;36m__call__\u001b[0;34m(self, *args)\u001b[0m\n\u001b[1;32m   1253\u001b[0m             \u001b[0mproto\u001b[0m\u001b[0;34m.\u001b[0m\u001b[0mEND_COMMAND_PART\u001b[0m\u001b[0;34m\u001b[0m\u001b[0;34m\u001b[0m\u001b[0m\n\u001b[1;32m   1254\u001b[0m \u001b[0;34m\u001b[0m\u001b[0m\n\u001b[0;32m-> 1255\u001b[0;31m         \u001b[0manswer\u001b[0m \u001b[0;34m=\u001b[0m \u001b[0mself\u001b[0m\u001b[0;34m.\u001b[0m\u001b[0mgateway_client\u001b[0m\u001b[0;34m.\u001b[0m\u001b[0msend_command\u001b[0m\u001b[0;34m(\u001b[0m\u001b[0mcommand\u001b[0m\u001b[0;34m)\u001b[0m\u001b[0;34m\u001b[0m\u001b[0;34m\u001b[0m\u001b[0m\n\u001b[0m\u001b[1;32m   1256\u001b[0m         return_value = get_return_value(\n\u001b[1;32m   1257\u001b[0m             answer, self.gateway_client, self.target_id, self.name)\n",
      "\u001b[0;32m/usr/local/spark/python/lib/py4j-0.10.7-src.zip/py4j/java_gateway.py\u001b[0m in \u001b[0;36msend_command\u001b[0;34m(self, command, retry, binary)\u001b[0m\n\u001b[1;32m    983\u001b[0m         \u001b[0mconnection\u001b[0m \u001b[0;34m=\u001b[0m \u001b[0mself\u001b[0m\u001b[0;34m.\u001b[0m\u001b[0m_get_connection\u001b[0m\u001b[0;34m(\u001b[0m\u001b[0;34m)\u001b[0m\u001b[0;34m\u001b[0m\u001b[0;34m\u001b[0m\u001b[0m\n\u001b[1;32m    984\u001b[0m         \u001b[0;32mtry\u001b[0m\u001b[0;34m:\u001b[0m\u001b[0;34m\u001b[0m\u001b[0;34m\u001b[0m\u001b[0m\n\u001b[0;32m--> 985\u001b[0;31m             \u001b[0mresponse\u001b[0m \u001b[0;34m=\u001b[0m \u001b[0mconnection\u001b[0m\u001b[0;34m.\u001b[0m\u001b[0msend_command\u001b[0m\u001b[0;34m(\u001b[0m\u001b[0mcommand\u001b[0m\u001b[0;34m)\u001b[0m\u001b[0;34m\u001b[0m\u001b[0;34m\u001b[0m\u001b[0m\n\u001b[0m\u001b[1;32m    986\u001b[0m             \u001b[0;32mif\u001b[0m \u001b[0mbinary\u001b[0m\u001b[0;34m:\u001b[0m\u001b[0;34m\u001b[0m\u001b[0;34m\u001b[0m\u001b[0m\n\u001b[1;32m    987\u001b[0m                 \u001b[0;32mreturn\u001b[0m \u001b[0mresponse\u001b[0m\u001b[0;34m,\u001b[0m \u001b[0mself\u001b[0m\u001b[0;34m.\u001b[0m\u001b[0m_create_connection_guard\u001b[0m\u001b[0;34m(\u001b[0m\u001b[0mconnection\u001b[0m\u001b[0;34m)\u001b[0m\u001b[0;34m\u001b[0m\u001b[0;34m\u001b[0m\u001b[0m\n",
      "\u001b[0;32m/usr/local/spark/python/lib/py4j-0.10.7-src.zip/py4j/java_gateway.py\u001b[0m in \u001b[0;36msend_command\u001b[0;34m(self, command)\u001b[0m\n\u001b[1;32m   1150\u001b[0m \u001b[0;34m\u001b[0m\u001b[0m\n\u001b[1;32m   1151\u001b[0m         \u001b[0;32mtry\u001b[0m\u001b[0;34m:\u001b[0m\u001b[0;34m\u001b[0m\u001b[0;34m\u001b[0m\u001b[0m\n\u001b[0;32m-> 1152\u001b[0;31m             \u001b[0manswer\u001b[0m \u001b[0;34m=\u001b[0m \u001b[0msmart_decode\u001b[0m\u001b[0;34m(\u001b[0m\u001b[0mself\u001b[0m\u001b[0;34m.\u001b[0m\u001b[0mstream\u001b[0m\u001b[0;34m.\u001b[0m\u001b[0mreadline\u001b[0m\u001b[0;34m(\u001b[0m\u001b[0;34m)\u001b[0m\u001b[0;34m[\u001b[0m\u001b[0;34m:\u001b[0m\u001b[0;34m-\u001b[0m\u001b[0;36m1\u001b[0m\u001b[0;34m]\u001b[0m\u001b[0;34m)\u001b[0m\u001b[0;34m\u001b[0m\u001b[0;34m\u001b[0m\u001b[0m\n\u001b[0m\u001b[1;32m   1153\u001b[0m             \u001b[0mlogger\u001b[0m\u001b[0;34m.\u001b[0m\u001b[0mdebug\u001b[0m\u001b[0;34m(\u001b[0m\u001b[0;34m\"Answer received: {0}\"\u001b[0m\u001b[0;34m.\u001b[0m\u001b[0mformat\u001b[0m\u001b[0;34m(\u001b[0m\u001b[0manswer\u001b[0m\u001b[0;34m)\u001b[0m\u001b[0;34m)\u001b[0m\u001b[0;34m\u001b[0m\u001b[0;34m\u001b[0m\u001b[0m\n\u001b[1;32m   1154\u001b[0m             \u001b[0;32mif\u001b[0m \u001b[0manswer\u001b[0m\u001b[0;34m.\u001b[0m\u001b[0mstartswith\u001b[0m\u001b[0;34m(\u001b[0m\u001b[0mproto\u001b[0m\u001b[0;34m.\u001b[0m\u001b[0mRETURN_MESSAGE\u001b[0m\u001b[0;34m)\u001b[0m\u001b[0;34m:\u001b[0m\u001b[0;34m\u001b[0m\u001b[0;34m\u001b[0m\u001b[0m\n",
      "\u001b[0;32m/opt/conda/lib/python3.7/socket.py\u001b[0m in \u001b[0;36mreadinto\u001b[0;34m(self, b)\u001b[0m\n\u001b[1;32m    587\u001b[0m         \u001b[0;32mwhile\u001b[0m \u001b[0;32mTrue\u001b[0m\u001b[0;34m:\u001b[0m\u001b[0;34m\u001b[0m\u001b[0;34m\u001b[0m\u001b[0m\n\u001b[1;32m    588\u001b[0m             \u001b[0;32mtry\u001b[0m\u001b[0;34m:\u001b[0m\u001b[0;34m\u001b[0m\u001b[0;34m\u001b[0m\u001b[0m\n\u001b[0;32m--> 589\u001b[0;31m                 \u001b[0;32mreturn\u001b[0m \u001b[0mself\u001b[0m\u001b[0;34m.\u001b[0m\u001b[0m_sock\u001b[0m\u001b[0;34m.\u001b[0m\u001b[0mrecv_into\u001b[0m\u001b[0;34m(\u001b[0m\u001b[0mb\u001b[0m\u001b[0;34m)\u001b[0m\u001b[0;34m\u001b[0m\u001b[0;34m\u001b[0m\u001b[0m\n\u001b[0m\u001b[1;32m    590\u001b[0m             \u001b[0;32mexcept\u001b[0m \u001b[0mtimeout\u001b[0m\u001b[0;34m:\u001b[0m\u001b[0;34m\u001b[0m\u001b[0;34m\u001b[0m\u001b[0m\n\u001b[1;32m    591\u001b[0m                 \u001b[0mself\u001b[0m\u001b[0;34m.\u001b[0m\u001b[0m_timeout_occurred\u001b[0m \u001b[0;34m=\u001b[0m \u001b[0;32mTrue\u001b[0m\u001b[0;34m\u001b[0m\u001b[0;34m\u001b[0m\u001b[0m\n",
      "\u001b[0;31mKeyboardInterrupt\u001b[0m: "
     ]
    }
   ],
   "source": [
    "ks = KafkaUtils.createDirectStream(\n",
    "    ssc, ['BTC'], {'metadata.broker.list': '2072befba3b8:9092'})\n",
    "lines = ks.map(lambda x: x[1])\n",
    "\n",
    "# transform1 = lines.map(lambda tripInfo: json_to_list(tripInfo))\n",
    "lines.foreachRDD(handle_rdd)\n",
    "\n",
    "# transform2 = lines.map(lambda tripInfo: json_to_processed_data(tripInfo))\n",
    "# transform2.foreachRDD(handle_rdd2)\n",
    "\n",
    "ssc.start()\n",
    "ssc.awaitTermination()"
   ]
  },
  {
   "cell_type": "code",
   "execution_count": null,
   "metadata": {},
   "outputs": [],
   "source": []
  }
 ],
 "metadata": {
  "kernelspec": {
   "display_name": "Python 3",
   "language": "python",
   "name": "python3"
  },
  "language_info": {
   "codemirror_mode": {
    "name": "ipython",
    "version": 3
   },
   "file_extension": ".py",
   "mimetype": "text/x-python",
   "name": "python",
   "nbconvert_exporter": "python",
   "pygments_lexer": "ipython3",
   "version": "3.7.6"
  }
 },
 "nbformat": 4,
 "nbformat_minor": 4
}
