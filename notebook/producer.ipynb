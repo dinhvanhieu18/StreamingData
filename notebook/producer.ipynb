{
 "cells": [
  {
   "cell_type": "code",
   "execution_count": 1,
   "metadata": {},
   "outputs": [],
   "source": [
    "from pykafka import KafkaClient"
   ]
  },
  {
   "cell_type": "code",
   "execution_count": 2,
   "metadata": {},
   "outputs": [],
   "source": [
    "import json\n",
    "import random\n",
    "import time"
   ]
  },
  {
   "cell_type": "code",
   "execution_count": 3,
   "metadata": {},
   "outputs": [],
   "source": [
    "hosts = 'kafka-1:9092,kafka-2:9092'"
   ]
  },
  {
   "cell_type": "code",
   "execution_count": 4,
   "metadata": {},
   "outputs": [],
   "source": [
    "client = KafkaClient(hosts=hosts)"
   ]
  },
  {
   "cell_type": "code",
   "execution_count": 5,
   "metadata": {},
   "outputs": [],
   "source": [
    "topic = client.topics[bytes('BTC', encoding='utf-8')]"
   ]
  },
  {
   "cell_type": "code",
   "execution_count": 6,
   "metadata": {},
   "outputs": [],
   "source": [
    "producer = topic.get_producer()"
   ]
  },
  {
   "cell_type": "code",
   "execution_count": 7,
   "metadata": {},
   "outputs": [],
   "source": [
    "import json\n",
    "from coinbase.wallet.client import Client"
   ]
  },
  {
   "cell_type": "code",
   "execution_count": 8,
   "metadata": {},
   "outputs": [],
   "source": [
    "with open(\"key.json\", \"r\") as f:\n",
    "    keys = json.load(f)"
   ]
  },
  {
   "cell_type": "code",
   "execution_count": 9,
   "metadata": {},
   "outputs": [],
   "source": [
    "api = Client(keys[\"api_key\"], keys[\"api_secret\"])"
   ]
  },
  {
   "cell_type": "code",
   "execution_count": null,
   "metadata": {},
   "outputs": [
    {
     "name": "stdout",
     "output_type": "stream",
     "text": [
      "msg:  {\"timestamp\": \"2020-12-21T16:01:17Z\", \"buy_price\": \"23200.47\", \"sell_price\": \"22970.22\"}\n",
      "msg:  {\"timestamp\": \"2020-12-21T16:01:23Z\", \"buy_price\": \"23200.47\", \"sell_price\": \"22970.22\"}\n",
      "msg:  {\"timestamp\": \"2020-12-21T16:01:29Z\", \"buy_price\": \"23200.47\", \"sell_price\": \"22970.22\"}\n",
      "msg:  {\"timestamp\": \"2020-12-21T16:01:35Z\", \"buy_price\": \"23233.60\", \"sell_price\": \"22992.65\"}\n",
      "msg:  {\"timestamp\": \"2020-12-21T16:01:42Z\", \"buy_price\": \"23233.60\", \"sell_price\": \"22992.65\"}\n",
      "msg:  {\"timestamp\": \"2020-12-21T16:01:49Z\", \"buy_price\": \"23233.60\", \"sell_price\": \"22992.65\"}\n",
      "msg:  {\"timestamp\": \"2020-12-21T16:01:54Z\", \"buy_price\": \"23228.35\", \"sell_price\": \"22990.45\"}\n",
      "msg:  {\"timestamp\": \"2020-12-21T16:02:01Z\", \"buy_price\": \"23228.35\", \"sell_price\": \"22990.45\"}\n",
      "msg:  {\"timestamp\": \"2020-12-21T16:02:06Z\", \"buy_price\": \"23228.35\", \"sell_price\": \"22990.45\"}\n",
      "msg:  {\"timestamp\": \"2020-12-21T16:02:12Z\", \"buy_price\": \"23198.18\", \"sell_price\": \"22960.66\"}\n",
      "msg:  {\"timestamp\": \"2020-12-21T16:02:18Z\", \"buy_price\": \"23198.18\", \"sell_price\": \"22960.66\"}\n",
      "msg:  {\"timestamp\": \"2020-12-21T16:02:53Z\", \"buy_price\": \"23183.20\", \"sell_price\": \"22948.92\"}\n",
      "msg:  {\"timestamp\": \"2020-12-21T16:03:00Z\", \"buy_price\": \"23183.20\", \"sell_price\": \"22948.92\"}\n",
      "msg:  {\"timestamp\": \"2020-12-21T16:03:06Z\", \"buy_price\": \"23183.20\", \"sell_price\": \"22948.92\"}\n",
      "msg:  {\"timestamp\": \"2020-12-21T16:03:11Z\", \"buy_price\": \"23168.95\", \"sell_price\": \"22928.57\"}\n",
      "msg:  {\"timestamp\": \"2020-12-21T16:03:18Z\", \"buy_price\": \"23168.95\", \"sell_price\": \"22928.57\"}\n",
      "msg:  {\"timestamp\": \"2020-12-21T16:03:23Z\", \"buy_price\": \"23168.95\", \"sell_price\": \"22928.57\"}\n",
      "msg:  {\"timestamp\": \"2020-12-21T16:03:29Z\", \"buy_price\": \"23157.08\", \"sell_price\": \"22927.17\"}\n",
      "msg:  {\"timestamp\": \"2020-12-21T16:03:36Z\", \"buy_price\": \"23157.08\", \"sell_price\": \"22927.17\"}\n",
      "msg:  {\"timestamp\": \"2020-12-21T16:03:41Z\", \"buy_price\": \"23157.08\", \"sell_price\": \"22927.17\"}\n",
      "msg:  {\"timestamp\": \"2020-12-21T16:03:47Z\", \"buy_price\": \"23203.55\", \"sell_price\": \"22967.20\"}\n",
      "msg:  {\"timestamp\": \"2020-12-21T16:03:53Z\", \"buy_price\": \"23203.55\", \"sell_price\": \"22967.20\"}\n",
      "msg:  {\"timestamp\": \"2020-12-21T16:03:59Z\", \"buy_price\": \"23203.55\", \"sell_price\": \"22967.20\"}\n",
      "msg:  {\"timestamp\": \"2020-12-21T16:04:04Z\", \"buy_price\": \"23187.14\", \"sell_price\": \"22944.42\"}\n",
      "msg:  {\"timestamp\": \"2020-12-21T16:04:10Z\", \"buy_price\": \"23187.14\", \"sell_price\": \"22944.42\"}\n",
      "msg:  {\"timestamp\": \"2020-12-21T16:04:16Z\", \"buy_price\": \"23187.14\", \"sell_price\": \"22944.42\"}\n",
      "msg:  {\"timestamp\": \"2020-12-21T16:04:21Z\", \"buy_price\": \"23186.17\", \"sell_price\": \"22947.27\"}\n",
      "msg:  {\"timestamp\": \"2020-12-21T16:04:27Z\", \"buy_price\": \"23186.17\", \"sell_price\": \"22947.27\"}\n",
      "msg:  {\"timestamp\": \"2020-12-21T16:04:33Z\", \"buy_price\": \"23186.17\", \"sell_price\": \"22947.27\"}\n",
      "msg:  {\"timestamp\": \"2020-12-21T16:04:38Z\", \"buy_price\": \"23212.26\", \"sell_price\": \"22974.17\"}\n",
      "msg:  {\"timestamp\": \"2020-12-21T16:04:45Z\", \"buy_price\": \"23212.26\", \"sell_price\": \"22974.17\"}\n",
      "msg:  {\"timestamp\": \"2020-12-21T16:04:50Z\", \"buy_price\": \"23212.26\", \"sell_price\": \"22974.17\"}\n",
      "msg:  {\"timestamp\": \"2020-12-21T16:04:56Z\", \"buy_price\": \"23215.06\", \"sell_price\": \"22974.86\"}\n",
      "msg:  {\"timestamp\": \"2020-12-21T16:05:02Z\", \"buy_price\": \"23215.06\", \"sell_price\": \"22974.86\"}\n",
      "msg:  {\"timestamp\": \"2020-12-21T16:05:07Z\", \"buy_price\": \"23215.06\", \"sell_price\": \"22974.86\"}\n",
      "msg:  {\"timestamp\": \"2020-12-21T16:05:13Z\", \"buy_price\": \"23207.94\", \"sell_price\": \"22976.65\"}\n",
      "msg:  {\"timestamp\": \"2020-12-21T16:05:19Z\", \"buy_price\": \"23207.94\", \"sell_price\": \"22976.65\"}\n",
      "msg:  {\"timestamp\": \"2020-12-21T16:05:25Z\", \"buy_price\": \"23207.94\", \"sell_price\": \"22976.65\"}\n",
      "msg:  {\"timestamp\": \"2020-12-21T16:05:31Z\", \"buy_price\": \"23213.17\", \"sell_price\": \"22979.72\"}\n",
      "msg:  {\"timestamp\": \"2020-12-21T16:05:38Z\", \"buy_price\": \"23213.17\", \"sell_price\": \"22979.72\"}\n",
      "msg:  {\"timestamp\": \"2020-12-21T16:05:44Z\", \"buy_price\": \"23213.17\", \"sell_price\": \"22979.72\"}\n",
      "msg:  {\"timestamp\": \"2020-12-21T16:05:50Z\", \"buy_price\": \"23218.49\", \"sell_price\": \"22987.46\"}\n",
      "msg:  {\"timestamp\": \"2020-12-21T16:05:57Z\", \"buy_price\": \"23218.49\", \"sell_price\": \"22987.46\"}\n",
      "msg:  {\"timestamp\": \"2020-12-21T16:06:02Z\", \"buy_price\": \"23218.49\", \"sell_price\": \"22987.46\"}\n",
      "msg:  {\"timestamp\": \"2020-12-21T16:06:09Z\", \"buy_price\": \"23195.04\", \"sell_price\": \"22955.65\"}\n",
      "msg:  {\"timestamp\": \"2020-12-21T16:06:15Z\", \"buy_price\": \"23195.04\", \"sell_price\": \"22955.65\"}\n",
      "msg:  {\"timestamp\": \"2020-12-21T16:06:21Z\", \"buy_price\": \"23195.04\", \"sell_price\": \"22955.65\"}\n",
      "msg:  {\"timestamp\": \"2020-12-21T16:06:26Z\", \"buy_price\": \"23195.77\", \"sell_price\": \"22958.35\"}\n",
      "msg:  {\"timestamp\": \"2020-12-21T16:06:32Z\", \"buy_price\": \"23195.77\", \"sell_price\": \"22958.35\"}\n",
      "msg:  {\"timestamp\": \"2020-12-21T16:06:38Z\", \"buy_price\": \"23195.77\", \"sell_price\": \"22958.35\"}\n",
      "msg:  {\"timestamp\": \"2020-12-21T16:06:43Z\", \"buy_price\": \"23189.94\", \"sell_price\": \"22956.61\"}\n",
      "msg:  {\"timestamp\": \"2020-12-21T16:06:50Z\", \"buy_price\": \"23189.94\", \"sell_price\": \"22956.61\"}\n",
      "msg:  {\"timestamp\": \"2020-12-21T16:06:55Z\", \"buy_price\": \"23189.94\", \"sell_price\": \"22956.61\"}\n",
      "msg:  {\"timestamp\": \"2020-12-21T16:07:00Z\", \"buy_price\": \"23190.12\", \"sell_price\": \"22959.31\"}\n",
      "msg:  {\"timestamp\": \"2020-12-21T16:07:07Z\", \"buy_price\": \"23190.12\", \"sell_price\": \"22959.31\"}\n",
      "msg:  {\"timestamp\": \"2020-12-21T16:07:12Z\", \"buy_price\": \"23190.12\", \"sell_price\": \"22959.31\"}\n",
      "msg:  {\"timestamp\": \"2020-12-21T16:07:18Z\", \"buy_price\": \"23185.26\", \"sell_price\": \"22954.55\"}\n",
      "msg:  {\"timestamp\": \"2020-12-21T16:07:24Z\", \"buy_price\": \"23185.26\", \"sell_price\": \"22954.55\"}\n",
      "msg:  {\"timestamp\": \"2020-12-21T16:07:30Z\", \"buy_price\": \"23185.26\", \"sell_price\": \"22954.55\"}\n",
      "msg:  {\"timestamp\": \"2020-12-21T16:07:36Z\", \"buy_price\": \"23202.15\", \"sell_price\": \"22967.47\"}\n",
      "msg:  {\"timestamp\": \"2020-12-21T16:07:42Z\", \"buy_price\": \"23202.15\", \"sell_price\": \"22967.47\"}\n",
      "msg:  {\"timestamp\": \"2020-12-21T16:07:48Z\", \"buy_price\": \"23193.26\", \"sell_price\": \"22955.44\"}\n",
      "msg:  {\"timestamp\": \"2020-12-21T16:07:59Z\", \"buy_price\": \"23193.26\", \"sell_price\": \"22955.44\"}\n",
      "msg:  {\"timestamp\": \"2020-12-21T16:08:04Z\", \"buy_price\": \"23193.26\", \"sell_price\": \"22955.44\"}\n",
      "msg:  {\"timestamp\": \"2020-12-21T16:08:10Z\", \"buy_price\": \"23171.61\", \"sell_price\": \"22938.51\"}\n",
      "msg:  {\"timestamp\": \"2020-12-21T16:08:16Z\", \"buy_price\": \"23171.61\", \"sell_price\": \"22938.51\"}\n",
      "msg:  {\"timestamp\": \"2020-12-21T16:08:22Z\", \"buy_price\": \"23171.61\", \"sell_price\": \"22938.51\"}\n",
      "msg:  {\"timestamp\": \"2020-12-21T16:08:27Z\", \"buy_price\": \"23182.95\", \"sell_price\": \"22945.72\"}\n",
      "msg:  {\"timestamp\": \"2020-12-21T16:08:36Z\", \"buy_price\": \"23182.95\", \"sell_price\": \"22945.72\"}\n",
      "msg:  {\"timestamp\": \"2020-12-21T16:08:42Z\", \"buy_price\": \"23182.95\", \"sell_price\": \"22945.72\"}\n",
      "msg:  {\"timestamp\": \"2020-12-21T16:08:47Z\", \"buy_price\": \"23176.03\", \"sell_price\": \"22944.20\"}\n",
      "msg:  {\"timestamp\": \"2020-12-21T16:08:53Z\", \"buy_price\": \"23176.03\", \"sell_price\": \"22944.20\"}\n",
      "msg:  {\"timestamp\": \"2020-12-21T16:08:59Z\", \"buy_price\": \"23176.03\", \"sell_price\": \"22944.20\"}\n",
      "msg:  {\"timestamp\": \"2020-12-21T16:09:04Z\", \"buy_price\": \"23176.08\", \"sell_price\": \"22945.37\"}\n",
      "msg:  {\"timestamp\": \"2020-12-21T16:09:11Z\", \"buy_price\": \"23176.08\", \"sell_price\": \"22945.37\"}\n",
      "msg:  {\"timestamp\": \"2020-12-21T16:09:16Z\", \"buy_price\": \"23176.08\", \"sell_price\": \"22945.37\"}\n",
      "msg:  {\"timestamp\": \"2020-12-21T16:09:22Z\", \"buy_price\": \"23168.83\", \"sell_price\": \"22934.64\"}\n",
      "msg:  {\"timestamp\": \"2020-12-21T16:09:29Z\", \"buy_price\": \"23168.83\", \"sell_price\": \"22934.64\"}\n",
      "msg:  {\"timestamp\": \"2020-12-21T16:09:34Z\", \"buy_price\": \"23168.83\", \"sell_price\": \"22934.64\"}\n",
      "msg:  {\"timestamp\": \"2020-12-21T16:09:41Z\", \"buy_price\": \"23155.67\", \"sell_price\": \"22920.50\"}\n",
      "msg:  {\"timestamp\": \"2020-12-21T16:09:47Z\", \"buy_price\": \"23155.67\", \"sell_price\": \"22920.50\"}\n",
      "msg:  {\"timestamp\": \"2020-12-21T16:09:53Z\", \"buy_price\": \"23155.67\", \"sell_price\": \"22920.50\"}\n",
      "msg:  {\"timestamp\": \"2020-12-21T16:09:58Z\", \"buy_price\": \"23158.62\", \"sell_price\": \"22922.72\"}\n",
      "msg:  {\"timestamp\": \"2020-12-21T16:10:05Z\", \"buy_price\": \"23158.62\", \"sell_price\": \"22922.72\"}\n",
      "msg:  {\"timestamp\": \"2020-12-21T16:10:10Z\", \"buy_price\": \"23158.62\", \"sell_price\": \"22922.72\"}\n",
      "msg:  {\"timestamp\": \"2020-12-21T16:10:16Z\", \"buy_price\": \"23151.13\", \"sell_price\": \"22914.50\"}\n",
      "msg:  {\"timestamp\": \"2020-12-21T16:10:22Z\", \"buy_price\": \"23151.13\", \"sell_price\": \"22914.50\"}\n"
     ]
    },
    {
     "name": "stdout",
     "output_type": "stream",
     "text": [
      "msg:  {\"timestamp\": \"2020-12-21T16:10:28Z\", \"buy_price\": \"23151.13\", \"sell_price\": \"22914.50\"}\n",
      "msg:  {\"timestamp\": \"2020-12-21T16:10:33Z\", \"buy_price\": \"23155.61\", \"sell_price\": \"22912.34\"}\n",
      "msg:  {\"timestamp\": \"2020-12-21T16:10:39Z\", \"buy_price\": \"23155.61\", \"sell_price\": \"22912.34\"}\n",
      "msg:  {\"timestamp\": \"2020-12-21T16:10:45Z\", \"buy_price\": \"23155.61\", \"sell_price\": \"22912.34\"}\n",
      "msg:  {\"timestamp\": \"2020-12-21T16:10:50Z\", \"buy_price\": \"23127.19\", \"sell_price\": \"22890.47\"}\n",
      "msg:  {\"timestamp\": \"2020-12-21T16:10:56Z\", \"buy_price\": \"23127.19\", \"sell_price\": \"22890.47\"}\n",
      "msg:  {\"timestamp\": \"2020-12-21T16:11:02Z\", \"buy_price\": \"23127.19\", \"sell_price\": \"22890.47\"}\n",
      "msg:  {\"timestamp\": \"2020-12-21T16:11:07Z\", \"buy_price\": \"23111.70\", \"sell_price\": \"22879.53\"}\n"
     ]
    }
   ],
   "source": [
    "while True:\n",
    "    timestamp = api.get_time()[\"iso\"]\n",
    "    buy_price = api.get_buy_price(currency_pair=\"BTC-USD\")[\"amount\"]\n",
    "    sell_price = api.get_sell_price(currency_pair=\"BTC-USD\")[\"amount\"]\n",
    "    msg = json.dumps({\n",
    "        'timestamp': timestamp,\n",
    "        'buy_price': buy_price,\n",
    "        'sell_price': sell_price\n",
    "    })\n",
    "    print('msg: ', msg)\n",
    "    producer.produce(bytes(msg, encoding='utf-8'))\n",
    "    time.sleep(5)"
   ]
  },
  {
   "cell_type": "code",
   "execution_count": null,
   "metadata": {},
   "outputs": [],
   "source": []
  },
  {
   "cell_type": "code",
   "execution_count": null,
   "metadata": {},
   "outputs": [],
   "source": []
  }
 ],
 "metadata": {
  "kernelspec": {
   "display_name": "Python 3",
   "language": "python",
   "name": "python3"
  },
  "language_info": {
   "codemirror_mode": {
    "name": "ipython",
    "version": 3
   },
   "file_extension": ".py",
   "mimetype": "text/x-python",
   "name": "python",
   "nbconvert_exporter": "python",
   "pygments_lexer": "ipython3",
   "version": "3.7.6"
  }
 },
 "nbformat": 4,
 "nbformat_minor": 4
}
