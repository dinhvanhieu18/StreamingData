{
 "cells": [
  {
   "cell_type": "code",
   "execution_count": 1,
   "metadata": {},
   "outputs": [],
   "source": [
    "# #!/usr/bin/env python\n",
    "# # -*- coding: utf-8 -*-\n",
    "# # @Time    : 2018/7/11 21:13\n",
    "# # @Author  : MengnanChen\n",
    "# # @Site    : \n",
    "# # @File    : receiver.py\n",
    "# # @Software: PyCharm Community Edition\n",
    "\n",
    "# '''\n",
    "# receive data coming from kafka (producer.py) and insert data into mongodb\n",
    "# '''\n",
    "# # debug spark—submit by pycharm (Chinese): https://blog.csdn.net/zj1244/article/details/78893837\n",
    "# # (English): https://stackoverflow.com/questions/35560767/pyspark-streaming-with-kafka-in-pycharm\n",
    "\n",
    "# from pyspark import SparkContext\n",
    "# from pyspark.streaming import StreamingContext\n",
    "# from pyspark.streaming.kafka import KafkaUtils\n",
    "# import json\n",
    "# import global_vals\n",
    "# from mongo_utils import mongo_utils\n",
    "\n",
    "# def insert_row(x):\n",
    "#     if x is None or len(x)<1:\n",
    "#         return\n",
    "#     data_list=x.split(',')\n",
    "#     mongo_utils.insert_data({\n",
    "#                 'timestamp': data_list[0],\n",
    "#                 'uid': data_list[1],\n",
    "#                 'heart_rate': data_list[2],\n",
    "#                 'steps': data_list[3]\n",
    "#     })\n",
    "\n",
    "# sc=SparkContext(master='local[*]',appName='test')\n",
    "# ssc=StreamingContext(sc,batchDuration=global_vals.data_produce_duration)\n",
    "# brokers='localhost:9092'\n",
    "# topic=global_vals.kafka_topic\n",
    "# kvs=KafkaUtils.createDirectStream(ssc,[topic],kafkaParams={\"metadata.broker.list\":brokers})\n",
    "# kvs.pprint()\n",
    "# lines=kvs.map(lambda x:'{},{},{},{}'.format(json.loads(x[1])['timestamp'],json.loads(x[1])['uid'],\n",
    "#                                            json.loads(x[1])['heart_rate'],json.loads(x[1])['steps']))\n",
    "# lines.foreachRDD(lambda rdd:rdd.foreach(insert_row))\n",
    "\n",
    "# ssc.start()\n",
    "# ssc.awaitTermination()"
   ]
  },
  {
   "cell_type": "code",
   "execution_count": 2,
   "metadata": {},
   "outputs": [],
   "source": [
    "from pyspark import SparkContext                                                                                        \n",
    "from pyspark.sql import SparkSession                                                                                    \n",
    "from pyspark.streaming import StreamingContext                                                                          \n",
    "from pyspark.streaming.kafka import KafkaUtils    \n",
    "import pandas as pd\n",
    "import json\n",
    "import yaml"
   ]
  },
  {
   "cell_type": "code",
   "execution_count": 3,
   "metadata": {},
   "outputs": [],
   "source": [
    "ss = SparkSession.Builder() \\\n",
    "     .appName(\"SparkStreamingKafka\") \\\n",
    "     .master(\"spark://aadb70abe6e3:7077\") \\\n",
    "     .config(\"spark.jars\", \"./spark-streaming-kafka-0-8-assembly_2.11-2.0.0-preview.jar\") \\\n",
    "     .getOrCreate()"
   ]
  },
  {
   "cell_type": "code",
   "execution_count": 4,
   "metadata": {},
   "outputs": [],
   "source": [
    "sc = ss.sparkContext\n",
    "ssc = StreamingContext(sc, 10)\n",
    "ss.sparkContext.setLogLevel('WARN')"
   ]
  },
  {
   "cell_type": "code",
   "execution_count": null,
   "metadata": {},
   "outputs": [],
   "source": [
    "def handle_rdd(rdd):\n",
    "    print(rdd)"
   ]
  },
  {
   "cell_type": "code",
   "execution_count": null,
   "metadata": {},
   "outputs": [],
   "source": [
    "ks = KafkaUtils.createDirectStream(\n",
    "    ssc, ['BTC'], {'metadata.broker.list': '2072befba3b8:9092'})\n",
    "lines = ks.map(lambda x: x[1])\n",
    "\n",
    "# transform1 = lines.map(lambda tripInfo: json_to_list(tripInfo))\n",
    "lines.foreachRDD(handle_rdd)\n",
    "\n",
    "# transform2 = lines.map(lambda tripInfo: json_to_processed_data(tripInfo))\n",
    "# transform2.foreachRDD(handle_rdd2)\n",
    "\n",
    "ssc.start()\n",
    "ssc.awaitTermination()"
   ]
  }
 ],
 "metadata": {
  "kernelspec": {
   "display_name": "Python 3",
   "language": "python",
   "name": "python3"
  },
  "language_info": {
   "codemirror_mode": {
    "name": "ipython",
    "version": 3
   },
   "file_extension": ".py",
   "mimetype": "text/x-python",
   "name": "python",
   "nbconvert_exporter": "python",
   "pygments_lexer": "ipython3",
   "version": "3.7.6"
  }
 },
 "nbformat": 4,
 "nbformat_minor": 4
}
